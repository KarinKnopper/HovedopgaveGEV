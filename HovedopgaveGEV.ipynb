{
  "cells": [
    {
      "cell_type": "markdown",
      "metadata": {
        "id": "view-in-github",
        "colab_type": "text"
      },
      "source": [
        "<a href=\"https://colab.research.google.com/github/KarinKnopper/HovedopgaveGEV/blob/main/HovedopgaveGEV.ipynb\" target=\"_parent\"><img src=\"https://colab.research.google.com/assets/colab-badge.svg\" alt=\"Open In Colab\"/></a>"
      ]
    },
    {
      "cell_type": "markdown",
      "metadata": {
        "id": "DJ9JhVpeP4MN"
      },
      "source": [
        "# Indledning\n",
        "Ca 10 sider"
      ]
    },
    {
      "cell_type": "markdown",
      "metadata": {
        "id": "c6d2Q9cvP9EP"
      },
      "source": [
        "## Hvad er GEV Varme A/S?\n",
        "KKN"
      ]
    },
    {
      "cell_type": "markdown",
      "metadata": {
        "id": "LNety93oRc-7"
      },
      "source": [
        "GEV Varme A/S forsyner omkring 3.500 husstande i Grindsted og Stenderup-Krogager med fjernvarme.\n",
        "\n",
        "Der bliver produceret ca 100.000 kilowatt-timer pr år og der bliver købt brændsel for ca 30 millioner pr år, så selv en besparelse på 1% vil betyde meget for økonomien.\n",
        "\n",
        "Danmark har en plan om at være 100% fri for fossile brændstoffer som gas og olie i 2050, men GEV har en plan om at være det allerede i 2030 og på nuværende tidspunkt er GEV oppe på, at ca 93% er fra vedvarende energikilder.\n",
        "\n",
        "Produktion af fjernvarme er ikke en simpel opgave. Det er vanskeligt at udarbejde en sikker prognose for fjernvarmebehovet og uden en god prognose er det ofte nødvendigt at supplere anvendelsen af biobrændsel med gas og el,\n",
        "Samtidig med, at man skal tage hensyn til miljøet og omkostningerne, skal man også sørge for, at der er varme nok til forbrugerne og reaktionstiden for biobrændsel gør, at man ikke kan skrue hurtigt op og ned for varmeproduktionen. Derfor skal man gerne kende varmebehovet for den umiddelbare fremtid.\n",
        "\n",
        "Den varme GEV leverer, består af ca 74% overskudsvarme fra virksomheden IFF, der producerer ingredienser til fødevareindustrien.\n",
        "IFF har deres egen fliskedel og i forbindelse med produktionen opstår der overskudsvarme, der sendes ud i fjernvarmenettet. Den flis der bruges, skal stamme fra bæredygtig skovhugst.\n",
        "Når IFF kører normalt ved de hvor meget varme de producerer, men i tilfælde af driftstop, planlagt eller uplanlagt, vil varmemesteren gerne kende det forventede forbrug\n",
        "\n",
        "\n",
        "\n",
        "\n",
        "Det er vigtigt at kunne levere en stabil fjernvarme. Derfor er der forskellige værker rundt om i byen, der producerer varme til at dække behovet. Der er et flisværk, en elpatron, gasolie og biogas og i Krogager er der også en varmepumpe, som står for en del af varmeforsyningen der.\n",
        "Resten af varmen er fordelt på ca 12% fra GEV's eget flisværk, 10 % fra elpatronen og det sidste produceres på gaskedler og er mest aktuelt i spidsbelastningen.\n",
        "Gas dækker kun en meget lille procentdel af varmebehovet og bruges i de fleste tilfælde kun til at dække varmebehovet i de koldeste perioder. Man kan producere grøn bionaturgas til at dække behovet.\n",
        "\n",
        "GEV ønsker at udfase naturgas og træflis og for at finde det rette alternativ, er det nødvendigt at kende varmeforbruget. For ikke at være så afhængige af een virksomhed (IFF) ser GEV på om øget elektrificering (elektrolyse?) og solceller (VE?) kan være en løsning. Elektrolyse kan blandt andet bruges til at rense den forurening, der er under Grindsted by. Elektrolyse danner overskudsvarme, der så kan føres til fjernvarmeanlægget og dermed skaffer billig fjernvarme til borgerne samtidig med, at forureningen forsvinder.\n",
        "\n",
        "\n",
        "\n",
        " <br>\n",
        "<br>\n",
        "GEV ønsker at mindske $\\text{CO}_2$ aftrykket for fjernvarmeproduktion, så vi skal undersøge, om man kan bruge machine learning til at forudsige varmeforbruget de næste 7 dage, så varmemesteren kan lave en fyringsprofil, der tager hensyn til omkostning, $\\text{CO}_2$ belastning, spild og tekniske begrænsninger i anlægget.\n",
        "Hvor lang tid tager driftsstoppet? Hvad er opstartstiden på de forskellige alternativer?\n",
        "\n",
        "Elpris og co2 er udenfor denne opgaves scope."
      ]
    },
    {
      "cell_type": "markdown",
      "metadata": {
        "id": "1dvNHsr76w17"
      },
      "source": [
        "## Problemformulering"
      ]
    },
    {
      "cell_type": "markdown",
      "metadata": {
        "id": "ZCoqQAs_7qlV"
      },
      "source": [
        "Til hverdag kan IFF ret præcist sige, hvor meget varme de producerer, men i de tilfælde, hvor IFF har driftsstop, har GEV's varmemester brug for at kende det forventede varmebehov de næste par dage, så han kan tage en kvalificeret beslutning om, hvilken alternativ varmekilde, der vil være bedst at bruge."
      ]
    },
    {
      "cell_type": "markdown",
      "metadata": {
        "id": "3hdJ5fs2C-q1"
      },
      "source": [
        "##Kravsanalyse\n",
        "YMA & KKN"
      ]
    },
    {
      "cell_type": "markdown",
      "source": [
        "\n",
        "I vores projekt har vi anvendt FURPS til at kategorisere og prioritere de forskellige krav.\n",
        "\n",
        "\n",
        "(F) Funktionalitet\n",
        "\n",
        "- Det skal være et aflæsningsværktøj, der skal være i stand til at lave et estimat på fremtidigt varmebehov.\n",
        "- Det skal hente historiske forbrugsdata fra GEV.\n",
        "- Det skal hente historiske vejrdata fra DMI gennem et API.\n",
        "- Det skal hente en 7 døgns vejrprognose.\n",
        "- Det skal være i stand til løbende at optimere ved hjælp af machine learning.\n",
        "- Det skal vise resultatet i Power BI.\n",
        "\n",
        "(U) Brugervenlighed\n",
        "\n",
        "- Brugervenligheden er ikke aktuel, da der ikke skal interageres med brugerne direkte.\n",
        "\n",
        "\n",
        "(R) Pålidelighed\n",
        "\n",
        "- Afhængig af DMI's API og GEV's DataWarehouse netforbindelse.\n",
        "- Afhængig af DMI's datakvalitet/vægt af data.\n",
        "\n",
        "(P) Ydeevne\n",
        "\n",
        "- Hastighed og performance er ikke aktuel, da systemet bare skal kunne komme med et forecast ca. en gang i døgnet eller ved behov.\n",
        "\n",
        "(S) Supportegnethed\n",
        "\n",
        "- Systemet er baseret på standard python biblioteker.\n",
        "- Data skal gemmes i SQL Database."
      ],
      "metadata": {
        "id": "JsW9XEmAHhr-"
      }
    },
    {
      "cell_type": "markdown",
      "metadata": {
        "id": "OnQeOa_8Wn10"
      },
      "source": [
        "##Afgrænsning\n",
        "\n",
        "KKN"
      ]
    },
    {
      "cell_type": "markdown",
      "source": [
        "Vi har valgt at beregne forbruget på dagsniveau og ikke timeniveau.\n",
        "\n",
        "Vi bruger minimal tid på datavask, da de data vi bruger, allerede er blevet vasket.\n",
        "\n",
        "Vi beregner ikke sektioneret forbrug, da Grindsted endnu ikke har fået delt deres varmeflow ind i sektioner, som de har gjort med vandforsyningen. Det bliver udført engang i fremtiden og så vil systemet blive optimeret til den tid.\n",
        "\n",
        "Vi beregner ikke omkostninger og CO2 forbrug ved anvendelse af de forskellige varmekilder, da det er varmemesterens ansvar."
      ],
      "metadata": {
        "id": "nCxECujGF7fF"
      }
    },
    {
      "cell_type": "markdown",
      "metadata": {
        "id": "TYWFyIhlAz0K"
      },
      "source": [
        "##Metode"
      ]
    },
    {
      "cell_type": "markdown",
      "metadata": {
        "id": "XwkkJflGA-5G"
      },
      "source": [
        "###Systemudviklingsmetode\n"
      ]
    },
    {
      "cell_type": "markdown",
      "metadata": {
        "id": "FvXqJ6IwVf8P"
      },
      "source": [
        "Af YMA\n",
        "\n",
        "Vi valgte at bruge en agil metode og valget faldt på scrum, der blev dokumenteret i Trello og udviklet i python og tensorflow.\n",
        "\n",
        "Scrum er en agil projektstyringsmetode, der er særlig populær i softwareudvikling. Det er valgt, fordi det understøtter hurtig og fleksibel udvikling, hvilket er ideelt i projekter med skiftende krav eller når hurtig levering er afgørende.\n",
        "\n",
        "**Kerneelementer i Scrum:**\n",
        "\n",
        "Sprints: Korte, faste arbejdsperioder (normalt 2-4 uger), hvor et bestemt arbejdsomfang fuldføres.\n",
        "\n",
        "  Product Backlog: En prioriteret liste over projektets arbejdsopgaver.\n",
        "\n",
        "  Sprint Planning: Planlægning af, hvilke opgaver der skal udføres i den næste sprint.\n",
        "\n",
        "  Daily Stand-up: Dagligt kort møde for statusopdateringer og koordinering.\n",
        "\n",
        "  Sprint Review: Evaluering af arbejdet fuldført i sprinten.\n",
        "\n",
        "  Sprint Retrospective: Refleksion over det forløbne sprint for at forbedre processen. Scrum fremmer samarbejde, fleksibilitet, og kontinuerlig forbedring. Det er ideelt til komplekse projekter, hvor kravene udvikler sig, og hvor hurtig reaktion på ændringer er nødvendig."
      ]
    },
    {
      "cell_type": "markdown",
      "metadata": {
        "id": "G6ABM9xIv98p"
      },
      "source": [
        "###Værktøjer\n",
        "KKN"
      ]
    },
    {
      "cell_type": "markdown",
      "metadata": {
        "id": "QOL7Ugf1svh6"
      },
      "source": [
        "Vi valgte at bruge scrum fremfor f.eks. XP eller vandfald til projektstyring og til kravsanalysen valgte vi FURPS, da det dækkede vores behov og det var ikke nødvendigt med +delen eller MoSCoW.\n",
        "Som organiseringsværktøj valgte vi Trello fremfor Azure DevOps, da det er det vi bruger hos GEV.\n",
        "\n",
        "Da det omhandler dataanalyse, valgte vi at programmere i python fremfor C#, da python sammen med R og SQL, er det foretrukne sprog til dataanalyse. Så var det oplagt at bruge jupyter notebook til rapporten, da det er integreret med python. Når man kører det via colab kører det direkte i browseren og der skal ikke installeres noget på computeren, så man kan køre det på hvilken som helst computer med netadgang.\n",
        "<br>\n",
        "[Link til jupyter notebook](https://colab.research.google.com/drive/1FCSXWJXyRDVyWvnWyk79W7I1pGBN005a#scrollTo=QOL7Ugf1svh6)\n",
        "<br>\n",
        "\n",
        "Til visualisering valgte vi Power BI af flere grunde. For det første er det det vi bruger hos GEV, for det andet kan det bruges sammen med python og for det tredje er der et direkte plugin til jupyter notebook.\n",
        "\n",
        "Til at forbinde det hele oprettede vi en github repository.\n",
        "<br>\n",
        "[Github repository](https://github.com/KarinKnopper/HovedopgaveGEV)\n"
      ]
    },
    {
      "cell_type": "markdown",
      "metadata": {
        "id": "UKqiYG7RDJ2E"
      },
      "source": [
        "###User stories\n",
        "KKN\n",
        "\n",
        "\n",
        "\n"
      ]
    },
    {
      "cell_type": "markdown",
      "metadata": {
        "id": "LC8mHjgX8DvY"
      },
      "source": [
        "Vores projekt har kun en user story.\n",
        "\n",
        "<br>\n",
        "\n",
        "*Som varmemester vil jeg gerne have et program, der kan hjælpe med at estimere varmeforbruget de næste 7 døgn, så jeg kan lave en optimal fyringsprofil.*\n",
        "\n",
        "<br>\n",
        "\n",
        "Til den user story er der følgende requirements:\n",
        "\n",
        "\n",
        "- Programmet skal kunne hente historiske vejrdata fra de sidste 3 år.\n",
        "- Programmet skal kunne hente historiske varmeforbrugsdata fra de sidste 3 år\n",
        "- Programmet skal ved hjælp af time series forecasting kunne træne disse data\n",
        "- For at kunne se forbruget på timebasis skal datamålepunkterne være på timebasis eller mindre.\n",
        "- Programmet skal kunne hente en 7 døgns vejrprognose, så den kan bruge algoritmen fra træningen til at estimere de næste 7 dages varmebehov.\n",
        "- Programmet skal lave et heatmap over Grindsted by, så man kan se, hvordan varmebehovet er fordelt i byen.\n",
        "- Resultatet skal kunne vises i Power BI.\n",
        "\n"
      ]
    },
    {
      "cell_type": "markdown",
      "metadata": {
        "id": "zp7t_36vp03K"
      },
      "source": [
        "###Sprints"
      ]
    },
    {
      "cell_type": "markdown",
      "metadata": {
        "id": "swyzAKPAsO_d"
      },
      "source": [
        "YMA\n",
        "\n",
        "**Sprint 1:** Opsætning og dataindsamling\n",
        "\n",
        "Backlog: Opsætte projektets infrastruktur, udvikle API-kald til vejrdata, indsamle 7 dages vejrudsigt.\n",
        "\n",
        "Mål: Funktionel API-integration og indledende dataindsamling.\n",
        "<br>\n",
        "\n",
        "**Sprint 2:** Dataopbevaring og -integration\n",
        "\n",
        "Backlog: Implementere databasestruktur, integrere indsamlede data, starte indsamling af historiske data.\n",
        "\n",
        "Mål: Stabil datalagring og begyndende dataintegration.\n",
        "<br>\n",
        "\n",
        "**Sprint 3:** Maskinlæring og modellering\n",
        "\n",
        "Backlog: Designe og implementere den indledende maskinlæringsmodel, foretage første træning og evaluering.\n",
        "\n",
        "Mål: En grundlæggende maskinlæringsmodel til forudsigelse af forbrug.\n",
        "<br>\n",
        "\n",
        "**Sprint 4:** Finjustering og evaluering\n",
        "\n",
        "Backlog: Finjustere maskinlæringsmodellen, implementere yderligere datarensning og forbehandling, evaluere modellens nøjagtighed.\n",
        "\n",
        "Mål: Forbedret prognosenøjagtighed og modelrobusthed.\n",
        "<br>\n",
        "\n",
        "**Sprint 5:** Rapportering og visualisering\n",
        "\n",
        "Backlog: Udvikle dashboards i Power BI, integrere prognosemodellens output, teste rapporteringsfunktionalitet.\n",
        "\n",
        "Mål: Klar og informativ visualisering af data og prognoser i Power BI."
      ]
    },
    {
      "cell_type": "markdown",
      "metadata": {
        "id": "uFfsUGsfA4MB"
      },
      "source": [
        "#Eksekvering\n",
        "ca 15 sider\n"
      ]
    },
    {
      "cell_type": "markdown",
      "metadata": {
        "id": "p3cYBlIWVHX9"
      },
      "source": [
        "beskriv datarens, fremgangsmetode, dokumentation\n",
        "Problemstilling ved manipukation af data"
      ]
    },
    {
      "cell_type": "code",
      "source": [
        "!pip  install openmeteo-requests"
      ],
      "metadata": {
        "id": "YANlCgmRGiX-"
      },
      "execution_count": null,
      "outputs": []
    },
    {
      "cell_type": "code",
      "source": [
        "!pip install requests-cache retry-requests numpy pandas"
      ],
      "metadata": {
        "id": "x4lMEcNrGokd"
      },
      "execution_count": null,
      "outputs": []
    },
    {
      "cell_type": "code",
      "source": [
        "#Hent alle de biblioteker der skal bruges\n",
        "import requests\n",
        "import openmeteo_requests\n",
        "import requests_cache\n",
        "import pandas as pd\n",
        "from retry_requests import retry\n",
        "#import pandas as pd\n",
        "import matplotlib.pyplot as plt\n",
        "from statsmodels.tsa.statespace.sarimax import SARIMAX\n",
        "from statsmodels.tsa.seasonal import seasonal_decompose\n",
        "# Hent bibliotek til billeder\n",
        "from IPython.display import Image, display"
      ],
      "metadata": {
        "id": "BGKwPsxUfGIM"
      },
      "execution_count": null,
      "outputs": []
    },
    {
      "cell_type": "markdown",
      "metadata": {
        "id": "zDTAZrGRDFHJ"
      },
      "source": [
        "##Domænemodel YMA\n",
        "\n",
        "Domænemodel Beskrivelse\n",
        "\n",
        "I din domænemodel for vejrdataindsamling og forbrugsforudsigelse er der flere nøgleelementer:\n",
        "\n",
        "Lokation: Repræsenterer geografiske data. Indeholder felter som bynavn, land, bredde- og længdegrader.\n",
        "\n",
        "Vejrrekord: Omhandler specifikke vejrdata på en given dato. Linkes til en lokation og indeholder detaljer som temperatur, vindstyrke og -retning, samt solopgang og -nedgang.\n",
        "\n",
        "Temperatur: Detaljeret data om temperatur, herunder maksimum, minimum og gennemsnit.\n",
        "\n",
        "Vind: Information om vindforhold, inkluderer hastighed og retning.\n",
        "\n",
        "Forbrugsforudsigelse: Resultater fra din maskinlæringsmodel. Omfatter forventet forbrug baseret på vejr og historiske data.\n",
        "\n",
        "Hver af disse entiteter repræsenteres som en tabel i din database og har relationer til hinanden, hvilket sikrer en struktureret og effektiv datahåndtering.\n",
        "![API - DomæneModel.png](data:image/png;base64,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)"
      ]
    },
    {
      "cell_type": "markdown",
      "metadata": {
        "id": "TVs4cGvVviQ8"
      },
      "source": [
        "##Arkitektur Beskrivelse YMA\n",
        "I vores projekt har vi designet et system, der består af flere integrerede moduler:\n",
        "\n",
        "Dataindsamlingsmodulet: Dette modul er ansvarligt for at indsamle både vejr- og virksomhedsdata. Det gør brug af forskellige API'er til at trække data, som er nødvendige for vores analyser.\n",
        "\n",
        "Databasemodulet: Her lagres alle indsamlede data. Vi har opsat tabeller for at organisere vejrdata, virksomhedsdata og de resultater, vi får fra vores forudsigelser.\n",
        "\n",
        "Dataintegrationsmodulet: Dette modul arbejder med at kombinere virksomhedsdataene med vejrdataene, så de er klar til at blive analyseret i maskinlæringsmodulet.\n",
        "\n",
        "Maskinlæringsmodulet: Her anvendes forskellige algoritmer til at generere forudsigelser baseret på de indsamlede data. Dette omfatter trin som dataforberedelse, modeltræning og evaluering af modellens præcision.\n",
        "\n",
        "Resultatlagringsmodulet: Når forudsigelserne er lavet, gemmer vi dem i databasen, så de kan bruges senere.\n",
        "\n",
        "Visualiseringsmodulet: Til sidst bruger vi Power BI til at visualisere både de rå data og vores forudsigelser. Det gør det nemmere for os at analysere resultaterne og træffe informerede beslutninger.![DataFlow Acitecture.png](data:image/png;base64,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)"
      ]
    },
    {
      "cell_type": "markdown",
      "metadata": {
        "id": "hBzNQ_RtuKOS"
      },
      "source": [
        "##Fremvisning af produkt her"
      ]
    },
    {
      "cell_type": "markdown",
      "source": [],
      "metadata": {
        "id": "2k9rOcfOMZzN"
      }
    },
    {
      "cell_type": "markdown",
      "metadata": {
        "id": "Yvsj6u1drDte"
      },
      "source": [
        "##Kode/ selve programmet"
      ]
    },
    {
      "cell_type": "markdown",
      "metadata": {
        "id": "9jruF9HuBWVh"
      },
      "source": [
        "Python kode til at hente data 7 dage frem. (VERSION VIRKER KUN TIL 3 Dage fordi de er uden en fri plan.)\n"
      ]
    },
    {
      "cell_type": "code",
      "execution_count": null,
      "metadata": {
        "id": "JOg1D4RvBdxT"
      },
      "outputs": [],
      "source": [
        "#import requests\n",
        "\n",
        "# Din API-nøgle\n",
        "api_key = 'b727b356aa584f5d85893707231611'\n",
        "\n",
        "# Forespørgslen på lokalitet\n",
        "location = 'Grindsted, Denmark'  # Erstat med den ønskede lokalitet\n",
        "\n",
        "# URL'en til Forecast API med parametre for 7 dages vejrudsigt\n",
        "url = f'https://api.weatherapi.com/v1/forecast.json?key={api_key}&q={location}&days=7'\n",
        "\n",
        "# Foretag API-kaldet\n",
        "response = requests.get(url)\n",
        "\n",
        "# Tjek om forespørgslen var vellykket\n",
        "if response.status_code == 200:\n",
        "    # Parse svaret til JSON\n",
        "    forecast_data = response.json()['forecast']['forecastday']\n",
        "\n",
        "    # Initialiser en ordbog til at lagre de nødvendige data\n",
        "    weather_summary = {}\n",
        "\n",
        "    # Løb igennem hver dags vejrudsigt\n",
        "    for day_data in forecast_data:\n",
        "        date = day_data['date']\n",
        "        max_temp = day_data['day']['maxtemp_c']\n",
        "        min_temp = day_data['day']['mintemp_c']\n",
        "        avg_temp = day_data['day']['avgtemp_c']\n",
        "        max_wind = day_data['day']['maxwind_kph']\n",
        "        sunrise = day_data['astro']['sunrise']\n",
        "        sunset = day_data['astro']['sunset']\n",
        "\n",
        "        # Tilføj dataene til vores opsummeringsordbog\n",
        "        weather_summary[date] = {\n",
        "            'max_temp_c': max_temp,\n",
        "            'min_temp_c': min_temp,\n",
        "            'avg_temp_c': avg_temp,\n",
        "            'max_wind_kph': max_wind,\n",
        "            'sunrise': sunrise,\n",
        "            'sunset': sunset\n",
        "        }\n",
        "\n",
        "    # Udskriv opsummeringsdataene\n",
        "    for date, data in weather_summary.items():\n",
        "        print(f\"Dato: {date}\")\n",
        "        print(f\"  Solopgang: {data['sunrise']}\")\n",
        "        print(f\"  Solnedgang: {data['sunset']}\")\n",
        "        print(f\"  Maksimal temperatur (°C): {data['max_temp_c']}\")\n",
        "        print(f\"  Minimal temperatur (°C): {data['min_temp_c']}\")\n",
        "        print(f\"  Gennemsnitlig temperatur (°C): {data['avg_temp_c']}\")\n",
        "        print(f\"  Maksimal vindhastighed (kph): {data['max_wind_kph']}\")\n",
        "        print()\n",
        "\n",
        "else:\n",
        "    print('Kunne ikke hente data:', response.status_code)\n"
      ]
    },
    {
      "cell_type": "markdown",
      "source": [
        "Ny version a vejer api porgamm som henter data uden api nølge og er gratis up til 10000 kald.\n",
        "\n",
        "Først skal da hentes med pip i **Powershell**:\n",
        "\n",
        "**pip install** *openmeteo-requests*\n",
        "\n",
        "**pip install** *requests-cache retry-requests numpy pandas*"
      ],
      "metadata": {
        "id": "B5jRnNtsPgAX"
      }
    },
    {
      "cell_type": "code",
      "source": [
        "#import openmeteo_requests\n",
        "#import requests_cache\n",
        "#import pandas as pd\n",
        "#from retry_requests import retry\n",
        "\n",
        "# Opsætning af Open-Meteo API-klient med cache og gentagelsesforsøg ved fejl\n",
        "cache_session = requests_cache.CachedSession('.cache', expire_after=3600)\n",
        "retry_session = retry(cache_session, retries=5, backoff_factor=0.2)\n",
        "openmeteo = openmeteo_requests.Client(session=retry_session)\n",
        "\n",
        "# Sørg for, at alle nødvendige vejrvariabler er opført her\n",
        "# Rækkefølgen af variabler i time- eller dagsdata er vigtig for korrekt tildeling nedenfor\n",
        "url = \"https://api.open-meteo.com/v1/forecast\"\n",
        "params = {\n",
        "\t\"latitude\": 55.7573,  # Breddegrad for placeringen\n",
        "\t\"longitude\": 8.9275,  # Længdegrad for placeringen\n",
        "\t\"hourly\": [\"temperature_2m\", \"weather_code\", \"wind_speed_10m\"],  # Timedata\n",
        "\t\"daily\": \"sunshine_duration\",  # Dagsdata\n",
        "\t\"timezone\": \"Europe/Berlin\"  # Tidszone for placeringen\n",
        "}\n",
        "responses = openmeteo.weather_api(url, params=params)\n",
        "\n",
        "# Behandler første lokalitet. Tilføj en for-løkke for flere lokaliteter eller vejrmodeller\n",
        "response = responses[0]\n",
        "print(f\"Koordinater {response.Latitude()}°E {response.Longitude()}°N\")\n",
        "print(f\"Højde {response.Elevation()} m.o.h.\")\n",
        "print(f\"Tidszone {response.Timezone()} {response.TimezoneAbbreviation()}\")\n",
        "print(f\"Tidszone forskel til GMT+0 {response.UtcOffsetSeconds()} s\")\n",
        "\n",
        "# Behandler timebaserede data. Rækkefølgen af variabler skal være den samme som anmodet.\n",
        "hourly = response.Hourly()\n",
        "hourly_temperature_2m = hourly.Variables(0).ValuesAsNumpy()\n",
        "hourly_weather_code = hourly.Variables(1).ValuesAsNumpy()\n",
        "hourly_wind_speed_10m = hourly.Variables(2).ValuesAsNumpy()\n",
        "\n",
        "hourly_data = {\"date\": pd.date_range(\n",
        "\tstart=pd.to_datetime(hourly.Time(), unit=\"s\"),\n",
        "\tend=pd.to_datetime(hourly.TimeEnd(), unit=\"s\"),\n",
        "\tfreq=pd.Timedelta(seconds=hourly.Interval()),\n",
        "\tinclusive=\"left\"\n",
        ")}\n",
        "hourly_data[\"temperature_2m\"] = hourly_temperature_2m\n",
        "hourly_data[\"weather_code\"] = hourly_weather_code\n",
        "hourly_data[\"wind_speed_10m\"] = hourly_wind_speed_10m\n",
        "\n",
        "hourly_dataframe = pd.DataFrame(data=hourly_data)\n",
        "print(hourly_dataframe)\n",
        "\n",
        "# Behandler dagsbaserede data. Rækkefølgen af variabler skal være den samme som anmodet.\n",
        "daily = response.Daily()\n",
        "daily_sunshine_duration = daily.Variables(0).ValuesAsNumpy()\n",
        "\n",
        "daily_data = {\"date\": pd.date_range(\n",
        "\tstart=pd.to_datetime(daily.Time(), unit=\"s\"),\n",
        "\tend=pd.to_datetime(daily.TimeEnd(), unit=\"s\"),\n",
        "\tfreq=pd.Timedelta(seconds=daily.Interval()),\n",
        "\tinclusive=\"left\"\n",
        ")}\n",
        "daily_data[\"sunshine_duration\"] = daily_sunshine_duration\n",
        "\n",
        "daily_dataframe = pd.DataFrame(data=daily_data)\n",
        "print(daily_dataframe)\n",
        "\n"
      ],
      "metadata": {
        "id": "clAPmkvrF_6b"
      },
      "execution_count": null,
      "outputs": []
    },
    {
      "cell_type": "markdown",
      "metadata": {
        "id": "2rs-9jIHr0cF"
      },
      "source": [
        "Prognose algo v1 (ikke helt færtig men det er en ide hvordan det kunne se ud):"
      ]
    },
    {
      "cell_type": "code",
      "execution_count": null,
      "metadata": {
        "id": "s8ASomQcsEeT"
      },
      "outputs": [],
      "source": [
        "import pandas as pd\n",
        "from keras.models import Sequential\n",
        "from keras.layers import LSTM, Dense\n",
        "\n",
        "# Indlæs og forbehandl din data\n",
        "# data = ...\n",
        "\n",
        "# Definer LSTM model\n",
        "model = Sequential()\n",
        "# Tilføj LSTM lag med 50 enheder, returner sekvenser for flere LSTM lag\n",
        "model.add(LSTM(units=50, return_sequences=True, input_shape=(X_train.shape[1], 1)))\n",
        "# Tilføj endnu et LSTM lag med 50 enheder\n",
        "model.add(LSTM(units=50))\n",
        "# Tilføj et tætheds-lag (Dense layer) for output\n",
        "model.add(Dense(1))\n",
        "\n",
        "# Kompiler modellen\n",
        "# Vælg en optimeringsalgoritme og et tab (loss) kriterium\n",
        "model.compile(optimizer='adam', loss='mean_squared_error')\n",
        "\n",
        "# Træn modellen med dine data\n",
        "# model.fit(...)\n",
        "\n",
        "# Brug den trænede model til at lave forudsigelser\n",
        "# predicted_values = model.predict(...)\n"
      ]
    },
    {
      "cell_type": "markdown",
      "source": [
        "Første Test phase med SARIMA-modellen: (output er ikke det vi vil have man det er jo TEST ;-))!\n"
      ],
      "metadata": {
        "id": "mQZMlbSkhKI5"
      }
    },
    {
      "cell_type": "code",
      "source": [
        "Test = 'https://raw.githubusercontent.com/KarinKnopper/HovedopgaveGEV/main/Tidsserie-test.png'\n",
        "\n",
        "# Display the image\n",
        "display(Image(url=Test))"
      ],
      "metadata": {
        "id": "_R1odt4VeziN"
      },
      "execution_count": null,
      "outputs": []
    },
    {
      "cell_type": "code",
      "source": [
        "import pandas as pd\n",
        "import matplotlib.pyplot as plt\n",
        "from statsmodels.tsa.statespace.sarimax import SARIMAX\n",
        "from statsmodels.tsa.seasonal import seasonal_decompose\n",
        "\n",
        "# Indlæs CSV-fil med semikolon som separator og parse datoer i 'Dato' kolonnen\n",
        "df = pd.read_csv(r'file_path.csv', delimiter=';', parse_dates=['Dato'], dayfirst=True, index_col='Dato')\n",
        "\n",
        "# Erstat kommaer med punktum i 'MWh' kolonnen, konverter til float og afrund værdierne\n",
        "df['MWh'] = df['MWh'].str.replace(',', '.').astype(float).round()\n",
        "\n",
        "# Plot tidsserien for 'MWh'\n",
        "df['MWh'].plot()\n",
        "plt.title('MWh Tidsserie')\n",
        "plt.show()\n",
        "\n",
        "# Sæsonmæssig dekomponering for at forstå sæsonmæssighed\n",
        "decomposition = seasonal_decompose(df['MWh'], model='additiv', period=365)  # Juster perioden efter behov\n",
        "fig = decomposition.plot()\n",
        "fig.set_size_inches(15, 8)\n",
        "plt.show()\n",
        "\n",
        "# Parametervalg for SARIMA-modellen\n",
        "sarima_order = (1, 1, 1)\n",
        "seasonal_order = (1, 1, 1, 12)\n",
        "\n",
        "model = SARIMAX(df['MWh'], order=sarima_order, seasonal_order=seasonal_order)\n",
        "results = model.fit()\n",
        "\n",
        "# Forudsig de næste trin\n",
        "forecast_steps = 7\n",
        "forecast = results.get_forecast(steps=forecast_steps)\n",
        "forecast_values = forecast.predicted_mean\n",
        "forecast_conf_int = forecast.conf_int()\n",
        "\n",
        "# Plot forudsigelsen sammen med historiske data\n",
        "plt.figure(figsize=(10, 6))\n",
        "plt.plot(df['MWh'], label='Historisk MWh')\n",
        "plt.plot(forecast_values, label='Forudsigelse MWh', color='red')\n",
        "plt.fill_between(forecast_values.index,\n",
        "                 forecast_conf_int.iloc[:, 0],\n",
        "                 forecast_conf_int.iloc[:, 1], color='pink', alpha=0.3)\n",
        "plt.title('MWh Forudsigelse')\n",
        "plt.legend()\n",
        "plt.show()\n"
      ],
      "metadata": {
        "id": "iU1c9TAsJ4n1"
      },
      "execution_count": null,
      "outputs": []
    },
    {
      "cell_type": "markdown",
      "source": [
        "##Prototype\n",
        "KKN"
      ],
      "metadata": {
        "id": "KrNiC-DpPTWP"
      }
    },
    {
      "cell_type": "markdown",
      "metadata": {
        "id": "gHJoy804a2rd"
      },
      "source": [
        "For at teste konceptet i vores idé, lavede vi en prototype på et mindre datasæt.\n",
        "\n",
        "Pga begrænset adgang til vores rigtige database, lavede jeg en sql udsøgning, der kunne gemmes som en csv-fil.\n",
        "\n",
        "Alle elmålere, vandmålere og varmemålere sender deres status hvert kvarter og disse målinger bliver gemt i vores database. Det er ikke kun selve målerstanden, men også ting som navn, adresse, installationsnummer, aftagernummer, status, firmanummer og mange, mange flere informationer, der bliver gemt. Der er ca. 500 tabeller (hvis det kan gøre det) og hver tabel har vel mellem 5 og 100 kolonner, så man skal nøje overveje, hvilke oplysninger man skal bruge og fra hvilke tabeller."
      ]
    },
    {
      "cell_type": "code",
      "source": [
        "# Hent bibliotek\n",
        "#from IPython.display import Image, display\n",
        "\n",
        "Tabel = 'https://raw.githubusercontent.com/KarinKnopper/HovedopgaveGEV/main/Tabeludsnit.png'\n",
        "\n",
        "# Display the image\n",
        "display(Image(url=Tabel))"
      ],
      "metadata": {
        "id": "fPz1i5WrQ1gw",
        "colab": {
          "base_uri": "https://localhost:8080/",
          "height": 810
        },
        "outputId": "9ba14b3b-a7b5-4e4c-d54e-1a4a5d3411aa"
      },
      "execution_count": null,
      "outputs": [
        {
          "output_type": "display_data",
          "data": {
            "text/html": [
              "<img src=\"https://raw.githubusercontent.com/KarinKnopper/HovedopgaveGEV/main/Tabeludsnit.png\"/>"
            ],
            "text/plain": [
              "<IPython.core.display.Image object>"
            ]
          },
          "metadata": {}
        }
      ]
    },
    {
      "cell_type": "markdown",
      "metadata": {
        "id": "BoJWQF9Rbzyz"
      },
      "source": [
        "\n",
        "*Ovenover ses et udsnit af mængden af tabeller og kolonner*\n",
        "\n",
        "<br>\n",
        "<br>\n",
        "\n",
        "Så hvad identificerer hvad, hvilke fællesnævnere er der og hvor mange tabeller er det nødvendigt at bruge?\n",
        "Først skulle jeg finde ud af, hvilke oplysninger jeg skulle bruge.\n",
        "Jeg startede med at udsøge oplysningerne på en enkelt installation. Faktisk startede jeg med en select * udsøgning og fik ca. en halv million hits, så jeg lærte at være lidt varsom med, hvad jeg bad om!\n",
        "Så jeg begrænsede det til en installation og en dag. Her kunne jeg så eksperimentere med at finde alle værdier og summe dem. Dernæst kunne jeg teste, om det virkede med 2 og 3 installationer. Jeg blev også lidt overmodig og prøvede at summe hele Grindsted, men havde ikke helt styr på afgrænsningerne, så efter 4 minutter stoppede jeg forespørgslen…\n",
        "\n",
        "I vores system er der data fra mange byer, så jeg skulle bruge et firmanummer, så jeg sikrede mig, at det kun var installationer i Grindsted, der blev søgt på. Dernæst skulle jeg bruge et installationsnummer. Her er der ofte 3 tidsserier tilknyttet: en til vand, en til varme-flow og en til varmeforbrug. De to sidste har betydning for forbruget, så de skulle begge med. Forbruget bliver målt i kWh og flow’et i m3, så jeg ville gerne have enheder med for klarhedens skyld. Så skulle jeg selvfølgelig have en dato med og et forbrug. Jeg kunne også vælge at sikre mig, at installationen var aktiv, men når jeg udsøger forbrug, kommer der automatisk kun de installationer med, der har værdier, så for at gøre det mere overskueligt, valgte jeg kun at have et minimum antal informationer med.\n",
        "Jeg kunne heldigvis nøjes med 4 tabeller: AINSD, BATIDSNR, TimeSeriesValues og som konnektor skulle jeg bruge ABATS.\n",
        "Til vores prototype, har vi i første omgang valgt at udregne forbrug pr døgn. Så kan vi altid ændre det til time eller kvarter, når vi begynder at arbejde med live data.\n",
        "Jeg startede med at lave en query, der fandt alle kvartersværdierne på begge tidsserierne i en given tidsperiode. Den query lavede jeg så til en subquery i en ny query, hvor jeg lagde alt forbruget pr døgn sammen i de respektive tidsserier. Jeg valgte at nøjes med at søge på tre installationer pga. de store mængder data, der ellers skulle beregnes."
      ]
    },
    {
      "cell_type": "code",
      "source": [
        "SQL = 'https://raw.githubusercontent.com/KarinKnopper/HovedopgaveGEV/main/SQLSearch.png'\n",
        "\n",
        "# Display the image\n",
        "display(Image(url=SQL))"
      ],
      "metadata": {
        "id": "sv7RaQrGjyaT",
        "colab": {
          "base_uri": "https://localhost:8080/",
          "height": 794
        },
        "outputId": "2121ae72-6f7b-4862-c7c2-9b6904975a96"
      },
      "execution_count": null,
      "outputs": [
        {
          "output_type": "display_data",
          "data": {
            "text/html": [
              "<img src=\"https://raw.githubusercontent.com/KarinKnopper/HovedopgaveGEV/main/SQLSearch.png\"/>"
            ],
            "text/plain": [
              "<IPython.core.display.Image object>"
            ]
          },
          "metadata": {}
        }
      ]
    },
    {
      "cell_type": "markdown",
      "metadata": {
        "id": "Ny_hOK_00dqw"
      },
      "source": [
        "*Ovenover ses SQL udsøgningen til forbrug pr dag pr installation*\n",
        "\n",
        "<br>\n",
        "<br>\n",
        "\n",
        "Efter at have gemt resultatet som csv, skulle det sættes ind i et excel-ark sammen med de vejrdata, jeg havde hentet fra DMI. Desværre er CSV-filer ikke altid ensbetydende med kommaseparerede filer, men kan også være kolon eller tabulator separerede, så det skulle lige køres en gang gennem notepad++, for blandt andet at ændre datoformatet, der skal være på en speciel måde for at python kan læse det problemfrit. Så var det klart til at blive gemt som en \"ægte\" csv-fil, der kunne uploades på github og derefter problemfrit indlæses i jupyter notebook.\n",
        "\n",
        "Her var det så et spørgsmål om at finde og afprøve en af de utallige algoritmer, der findes til at træne et datasæt. Resultatet blev ikke ret præcist, men eftersom datasættet kun havde 61 punkter og forbruget kom fra 3 installationer, er det ikke noget, der bekymrer mig.\n"
      ]
    },
    {
      "cell_type": "code",
      "source": [
        "Proto = 'https://raw.githubusercontent.com/KarinKnopper/HovedopgaveGEV/main/Prototype-resultat.png'\n",
        "\n",
        "# Display the image\n",
        "display(Image(url=Proto))"
      ],
      "metadata": {
        "colab": {
          "base_uri": "https://localhost:8080/",
          "height": 575
        },
        "id": "0t7K9F_kc3tn",
        "outputId": "a35622ac-6dd4-47b6-b20b-5382ab88323a"
      },
      "execution_count": null,
      "outputs": [
        {
          "output_type": "display_data",
          "data": {
            "text/html": [
              "<img src=\"https://raw.githubusercontent.com/KarinKnopper/HovedopgaveGEV/main/Prototype-resultat.png\"/>"
            ],
            "text/plain": [
              "<IPython.core.display.Image object>"
            ]
          },
          "metadata": {}
        }
      ]
    },
    {
      "cell_type": "markdown",
      "source": [
        "*Resultatet af prototypen*\n",
        "\n",
        "<br>\n",
        "<br>\n",
        "\n",
        "For hele prototypen se bilag."
      ],
      "metadata": {
        "id": "UbRkNuY6dNSB"
      }
    },
    {
      "cell_type": "markdown",
      "metadata": {
        "id": "MtUbldjGBRZF"
      },
      "source": [
        "##Diskussion"
      ]
    },
    {
      "cell_type": "markdown",
      "metadata": {
        "id": "OCs32OeiwKPN"
      },
      "source": [
        "###Valg af programmeringssprog"
      ]
    },
    {
      "cell_type": "markdown",
      "source": [
        "###Begrundelse for valget af Python over C# i vores projekt\n",
        "YMA\n",
        "\n",
        "1.\tMange biblioteker og frameworks:\n",
        "Python er fremtrædende inden for dataanalyse, maskinlæring og kunstig intelligens takket være biblioteker som NumPy, Pandas, TensorFlow og scikit-learn. Disse værktøjer tilbyder avancerede funktioner, der er direkte relevante for vores projekt, specielt i forbindelse med datahåndtering og forudsigelsesmodellering.\n",
        "2.\tHurtig udviklingscyklus: Pythons syntaks er klar og koncis, hvilket fremmer hurtig udvikling og prototyping. Denne effektivitet er vital for vores projekt, da det tillader os at teste nye ideer og foretage iterationer hurtigt.\n",
        "3.\tStærkt community og support: Python har et globalt netvørk, som bidrager til et omfattende system af dokumentation, tutorials og fora. Denne støtte er uvurderlig for problemløsning og indlæring under projektudviklingen.\n",
        "4.\tInteroperabilitet og fleksibilitet: Python kan let integreres med andre sprog og systemer, hvilket er vigtigt for vores projekt, der indebærer integration med forskellige datakilder og systemer.\n",
        "5.\tPlatformuafhængighed: Python kører problemfrit på flere platforme som Windows, macOS og Linux, hvilket giver os fleksibilitet i softwareudviklingen.\n"
      ],
      "metadata": {
        "id": "yjk5hvlOC6AL"
      }
    },
    {
      "cell_type": "markdown",
      "source": [
        "###Valg af Scrum metoden frem for andre projektstyringsmetoder\n",
        "YMA\n",
        "Valget af Scrum som vores projektstyringsmetode er grundet i flere specifikke fordele, som Scrum tilbyder sammenlignet med andre traditionelle eller agile metoder:\n",
        "1.\tFleksibilitet og tilpasningsevne: Scrum tillader hurtig tilpasning til ændringer, hvilket er essentielt i vores projekt, hvor kravene kan udvikle sig løbende.\n",
        "2.\tIterativ udvikling: Med Scrum arbejder vi i faste sprint-cyklusser, der gør det muligt løbende at evaluere og forbedre produktet.\n",
        "3.\tEffektiv prioritering: Scrum fokuserer på at levere de mest værdifulde funktioner først, hvilket sikrer en effektiv brug af ressourcer.\n",
        "4.\tStærk holdinvolvering: Scrum fremmer et tæt samarbejde i teamet, hvilket forbedrer kommunikationen og forståelsen for projektets mål.\n",
        "\n",
        "\n"
      ],
      "metadata": {
        "id": "qcwu9GSGDa-8"
      }
    },
    {
      "cell_type": "markdown",
      "source": [
        "###FURPS og MoSCoW\n",
        "\n",
        "Selvom MoSCoW-analysen ofte anvendes sammen med FURPS for yderligere at prioritere krav, valgte vi ikke at bruge MoSCoW i dette tilfælde, da vi fandt, at FURPS-modellen alene gav os tilstrækkelig struktur og klarhed til effektivt at identificere og håndtere de funktionelle og ikke-funktionelle aspekter af vores projekt, uden behovet for den ekstra lagdeling af prioriteter, som MoSCoW tilbyder.\n",
        "Vi fravalgte også +-delen i FURPS, da det er et internt aflæsningsværktøj, der skal køre på lukkede IT-systemer og ikke har mulighed for input.\n",
        "\n",
        "\n",
        "\n"
      ],
      "metadata": {
        "id": "MsfU7ucLtq5e"
      }
    },
    {
      "cell_type": "markdown",
      "metadata": {
        "id": "0zQWc_lj0uFw"
      },
      "source": [
        "diskussion hvorfor python fremfor c#"
      ]
    },
    {
      "cell_type": "markdown",
      "metadata": {
        "id": "Wbq15ZRTUykD"
      },
      "source": [
        "ER dette relevant"
      ]
    },
    {
      "cell_type": "markdown",
      "metadata": {
        "id": "IzsPboB00JjO"
      },
      "source": [
        "I vores projekt har vi udviklet en softwareløsning, der primært er tiltænkt virksomhedens ledelse. Denne løsning kan klassificeres som en SaaS (Software as a Service), idet den centrale faktor i SaaS er leveringsmetoden og adgangsmåden til softwaren, og ikke specifikt hvem brugerne er. Vores software distribueres via internettet og administreres centralt, hvilket eliminerer behovet for installation på den enkelte brugers computer. Denne tilgang gør softwaren til en SaaS-løsning, der er anvendelig både for en begrænset gruppe af interne brugere samt potentielt et større eksternt publikum."
      ]
    },
    {
      "cell_type": "markdown",
      "metadata": {
        "id": "KPlzn2e3BZSi"
      },
      "source": [
        "#Konklusion\n",
        "ca 10 sider"
      ]
    },
    {
      "cell_type": "markdown",
      "metadata": {
        "id": "GTZdzZ3_wfIG"
      },
      "source": [
        "##Opnåede vi det vi ville?\n",
        "svar på problemformuleringen"
      ]
    },
    {
      "cell_type": "markdown",
      "metadata": {
        "id": "kyJWbCqVwi1c"
      },
      "source": [
        "##Gik det godt?"
      ]
    },
    {
      "cell_type": "markdown",
      "metadata": {
        "id": "j7dF-ex0Bf4d"
      },
      "source": [
        "##Perspektivering"
      ]
    },
    {
      "cell_type": "markdown",
      "metadata": {
        "id": "H8OXG5iGwo6B"
      },
      "source": [
        "## Kan vi bruge resultatet til andet end at vurdere varmeforbrug?"
      ]
    },
    {
      "cell_type": "markdown",
      "metadata": {
        "id": "on8BDYeU02Lk"
      },
      "source": [
        "eventuelt perspektivering. Kan dette bruges til noget? nye materialer til huse?\n",
        "\n",
        "Kan det betale sig at energieffektivereboliger? Hvis det gøres med grønne materialer kan ens aftryk formindskes væsentligt. Jo mere energieffektiv en bolig er, jo mindre varme skal der produceres osv. Jo mindre spild jo bedre økonomi. Jo mere energieffektive boligerne er jo mere effektiv energiforsyning.\n",
        "\n",
        "\n",
        "Kan man reducere varmeforbruget ved at energioptimere boligen med ekstra isolering, termoruder, bedre materialer"
      ]
    },
    {
      "cell_type": "markdown",
      "metadata": {
        "id": "r1Mu4BG0Bjqb"
      },
      "source": [
        "#Litteraturliste"
      ]
    },
    {
      "cell_type": "markdown",
      "metadata": {
        "id": "UtTEvPM4Cikl"
      },
      "source": [
        "##Bøger"
      ]
    },
    {
      "cell_type": "markdown",
      "metadata": {
        "id": "qApEay563uVy"
      },
      "source": [
        "Bogen om C# af Michell Cronenberg\n",
        "\n",
        "C# A beginners tutorial af Jayden Ky\n",
        "\n",
        "Visual C# - How to program af Deitel & Deitel\n",
        "\n",
        "Applying UML and Patterns af Craig Larman\n",
        "\n",
        "Fundamentals of Database systems af Elmasri Navathe\n",
        "\n",
        "Beginning Software engineering af Rod Stephens\n",
        "\n",
        "ASP.NET Core in action af Andrew Lock\n",
        "\n",
        "ASP.NET Core Razor Pages in Action af Mike Brind\n",
        "\n",
        "Machine learning for absolute beginners\n",
        "\n",
        "Jurafsky, D., & Martin, J. H. (2019). Speech and language processing. An introduction to natural language processing, computational linguistics, and speech recognition (3rd ed.). Pearson. Lokaliseret 2. feb. 2023\n",
        "\n",
        "Kurose, Ross: Computer Networking (udvalgte sider) (CN): part 1, 2, 3\n",
        "\n",
        "NET-Microservices-Architecture-for-Containerized-NET-Applications\n",
        "\n",
        "Entity Framework Core in Action, Second Edition\n",
        "\n"
      ]
    },
    {
      "cell_type": "markdown",
      "metadata": {
        "id": "TebzntIYClqq"
      },
      "source": [
        "##Artikler\n",
        "\n",
        "https://www.billund.dk/media/1sbjj5yq/varmeplan-2022-billund-kommune-godkendt-13122022.pdf. Lokaliseret d 22/11-23\n",
        "\n",
        "https://www.billund-varme.dk/media/44968/energicenter_projektbeskrivelse.pdf. Lokaliseret 22/11-23\n",
        "\n",
        "https://www.sas.com/da_dk/insights/analytics/what-is-artificial-intelligence.html Lokaliseret 19. jan. 2023\n",
        "\n",
        "Datavask: https://www.ibm.com/cloud/blog/supervised-vs-unsupervised-learning Lokaliseret 1. feb. 2023.\n",
        "\n",
        "\n",
        "\n",
        "Hvad er ML: https://simplecode.dk/hvad-er-machine-learning/ Lokaliseret 11. feb. 2023\n",
        "\n",
        "Note om estimering: ”kap 10 estimering.pdf”, Note af Andreas Munk Madsen om estimering. Lokaliseret 20/11-2023\n",
        "\n",
        "Note: kap.7.Estimering.pdf Lokaliseret 20/11-2023\n",
        "\n",
        "Note: AzureDevOpsExplained.pdf (extensivt – skal orientere jer I delene vedr AZURE-board, kap.2) Lokaliseret 20/11-2023\n",
        "\n",
        "Note: Todd Little, Note: Alistair Cockburn, Note: Reneaud & Isabelle (Larmans metodeklassifikation) Lokaliseret 20/11-2023\n",
        "\n",
        "Note: Roger S. Pressmann: Software Configuration Management, kap.22\n",
        "using_risk_to_balance_agile_and_plan-_driven_methods.pdf Lokaliseret 20/11-2023\n",
        "\n",
        "Tanenbaum: Client Server arkitekturen.pdf Lokaliseret 20/11-2023\n",
        "\n",
        "https://martinfowler.com/articles/microservices.html Lokaliseret 20/11-2023\n",
        "\n",
        "https://modlogix.com/blog/ Lokaliseret 20/11-2023\n",
        "\n",
        "docker-desktop-alternatives-changes-in-licensing-and-new-pricing-policy/ Lokaliseret 20/11-2023\n",
        "\n",
        "www.geeksforgeeks.org/containerization-using-docker/?ref=lbp Lokaliseret 20/11-2023\n",
        "\n",
        "https://docs.docker.com/get-started/overview/#containers Lokaliseret 20/11-2023\n",
        "\n",
        "https://docs.github.com/en/codespaces/overview Lokaliseret 20/11-2023\n",
        "\n",
        "https://docs.docker.com/config/containers/container-networking/ Lokaliseret 20/11-2023\n",
        "\n",
        "https://docs.docker.com/docker-hub/ www.c-sharpcorner.com/article/run-and-test-asp-net-core-web-api-docker-container-locally/ Lokaliseret 20/11-2023\n",
        "\n",
        "A.S. Tanenbaum: Distributed Systems: Afsnit 1.5 (7 siders note) Lokaliseret 20/11-2023\n",
        "\n",
        "https://martinfowler.com/articles/microservices.html Lokaliseret 20/11-2023\n",
        "\n",
        "https://martinfowler.com/bliki/MonolithFirst.html Lokaliseret 20/11-2023\n",
        "\n",
        "https://en.wikipedia.org/wiki/Systems_architecture Lokaliseret 20/11-2023\n",
        "\n",
        "https://www.bmc.com/blogs/saas-vs-paas-vs-iaas-whats-the-difference-and-how-to-choose/ Lokaliseret 20/11-2023\n"
      ]
    },
    {
      "cell_type": "markdown",
      "metadata": {
        "id": "6NJR8V3HCy7k"
      },
      "source": [
        "##Videoer\n",
        "\n",
        "Video om unsupervised (20 min.): https://youtu.be/yzG69Zf0U1k Lokaliseret marts 2023\n",
        "\n",
        "Video om både super- og unsupevised: https://www.simplilearn.com/tutorials/machine-learning-tutorial/supervised-and-unsupervised-learning Lokaliseret marts 2023\n",
        "\n",
        "\n",
        "\n",
        "LinkedInLearning:\n",
        "\n",
        "\n",
        "HTML Essential Training\n",
        "\n",
        "CSS Essential Training\n",
        "\n",
        "Bootstrap 5 Essential Training\n",
        "\n",
        "ASP.NET Core: Razor Pages - Authentication vs. authorization\n",
        "\n",
        "Learning REST API's\n",
        "\n",
        "Learning PowerBI desktop\n",
        "\n",
        "PowerBI Data Modeling with DAX\n",
        "\n",
        "HTTP Essential Training\n",
        "\n",
        "Using Docker and .NET Core\n",
        "\n",
        "Database foundations: Intro to Databases\n",
        "\n",
        "\n",
        "DataCamp learning track:\n",
        "Data Analyst in Power BI\n",
        "\n"
      ]
    },
    {
      "cell_type": "markdown",
      "metadata": {
        "id": "3JLM1yecC5v-"
      },
      "source": [
        "##Web"
      ]
    },
    {
      "cell_type": "markdown",
      "metadata": {
        "id": "EW6L7J5c3eti"
      },
      "source": [
        "https://www.gev.dk/fjernvarme/ Lokaliseret 20/11-2023\n",
        "\n",
        "Intro til Python: https://www.datacamp.com/courses/intro-to-python-for-data-science?utm_source=learnpython_com&utm_campaign=learnpython_tutorials Lokaliseret 20/11-2023\n",
        "\n",
        "\n",
        "http://agilemanifesto.org/ Lokaliseret 20/11-2023\n",
        "\n",
        "http://agilemanifesto.org/iso/dk/manifesto.html Lokaliseret 20/11-2023\n",
        "\n",
        "http://www.extremeprogramming.org/ Lokaliseret 20/11-2023\n",
        "\n",
        "http://www.extremeprogramming.org/rules/userstories.html Lokaliseret 20/11-2023\n",
        "\n",
        "http://www.extremeprogramming.org/start.html Lokaliseret 20/11-2023\n",
        "\n",
        "http://www.extremeprogramming.org/values.html Lokaliseret 20/11-2023\n",
        "\n",
        "https://www.planningpoker.com/ Lokaliseret 20/11-2023\n",
        "\n",
        "en.wikipedia.org/wiki/burndown_chart Lokaliseret 20/11-2023\n",
        "\n",
        "www.scrum.org (SCRUM Guides 2020, november), se specielt den Danske SCRUM guide. Lokaliseret 20/11-2023\n",
        "\n",
        "www.scrumguides.org/download.html Lokaliseret 20/11-2023\n",
        "\n",
        "www.madstroelshansen.com/hvad-er-scrum Lokaliseret 20/11-2023\n",
        "\n",
        "https://scrumguides.org/docs/scrumguide/v2020/2020-Scrum-Guide-Danish.pdf Lokaliseret 20/11-2023\n",
        "\n",
        "https://docs.microsoft.com/en-us/azure/devops/test/perform-exploratory-tests?view=azure-devops Lokaliseret 20/11-2023\n",
        "\n",
        "\n"
      ]
    },
    {
      "cell_type": "code",
      "source": [
        "import statsmodels\n",
        "print(statsmodels.__version__)\n"
      ],
      "metadata": {
        "id": "gFa0-7KWPgrU"
      },
      "execution_count": null,
      "outputs": []
    },
    {
      "cell_type": "markdown",
      "metadata": {
        "id": "K6uLFEQBBnG_"
      },
      "source": [
        "#Bilag\n",
        "Kun dem der er centrale for rapporten."
      ]
    },
    {
      "cell_type": "markdown",
      "source": [
        "##Kode til UML\n",
        "\n",
        "@startuml\n",
        "' Define the Location entity\n",
        "entity Location {\n",
        "  + LocationID : int\n",
        "  --\n",
        "  CityName : varchar\n",
        "  Country : varchar\n",
        "  Latitude : float\n",
        "  Longitude : float\n",
        "}\n",
        "\n",
        "' Define the WeatherRecord entity\n",
        "entity WeatherRecord {\n",
        "  + RecordID : int\n",
        "  # LocationID : int\n",
        "  --\n",
        "  Date : date\n",
        "  Sunrise : time\n",
        "  Sunset : time\n",
        "}\n",
        "\n",
        "' Define the Temperature entity\n",
        "entity Temperature {\n",
        "  + TemperatureID : int\n",
        "  # RecordID : int\n",
        "  --\n",
        "  MaxTemp : float\n",
        "  MinTemp : float\n",
        "  AvgTemp : float\n",
        "}\n",
        "\n",
        "' Define the Wind entity\n",
        "entity Wind {\n",
        "  + WindID : int\n",
        "  # RecordID : int\n",
        "  --\n",
        "  Speed : float\n",
        "  Direction : varchar\n",
        "}\n",
        "\n",
        "' Define relationships\n",
        "Location ||--o{ WeatherRecord\n",
        "WeatherRecord ||--o{ Temperature\n",
        "WeatherRecord ||--o{ Wind\n",
        "@enduml\n"
      ],
      "metadata": {
        "id": "JcXOOMb2NBOR"
      }
    },
    {
      "cell_type": "markdown",
      "metadata": {
        "id": "yV4gKM2GfT80"
      },
      "source": [
        "###User Stories projektet YMA"
      ]
    },
    {
      "cell_type": "markdown",
      "metadata": {
        "id": "Q2TOSYMZsf8L"
      },
      "source": [
        "\n",
        "- Som en dataanalytiker ønsker jeg at hente 7 dages vejrudsigt, så jeg kan bruge data til prognosemodellering.\n",
        "- Som en systemadministrator ønsker jeg at indsamle 3 års historiske vejrdata, så jeg kan træne min prognosemodel.\n",
        "- Som en forretningsanalytiker ønsker jeg at integrere virksomhedsdata med vejrdata, så jeg kan forstå påvirkningen af vejret på forbrug.\n",
        "- Som en dataforsker ønsker jeg at anvende en maskinlæringsalgoritme for at forudsige fjernvarmeforbruget, så jeg kan hjælpe med at optimere ressourceallokering.\n",
        "- Som en beslutningstager ønsker jeg at se prognoser og analyser i Power BI, så jeg kan træffe informerede beslutninger."
      ]
    },
    {
      "cell_type": "markdown",
      "source": [
        "##Kode til mere UML\n",
        "\n",
        "@startuml\n",
        "\n",
        "package \"Dataindsamling\" {\n",
        "    [Hent 7 Dages Vejrudsigt] as Forecast7Days\n",
        "    [Hent 3 Års Historiske Data] as History3Years\n",
        "}\n",
        "\n",
        "database \"Dataopbevaring\" {\n",
        "    frame \"Vejrdata\" {\n",
        "        [Gem Vejrdata]\n",
        "    }\n",
        "    frame \"Virksomhedsdata\" {\n",
        "        [Gem Virksomhedsdata]\n",
        "    }\n",
        "    frame \"Forudsigelsesresultater\" {\n",
        "        [Gem Forudsigelsesresultater]\n",
        "    }\n",
        "}\n",
        "\n",
        "package \"Dataintegration\" {\n",
        "    [Integrer Virksomhedsdata] as IntegrateData\n",
        "}\n",
        "\n",
        "package \"Maskinlæring\" {\n",
        "    [Forudsigelse af Fjernvarmeforbrug] as MLAlgorithm\n",
        "}\n",
        "\n",
        "package \"Datavisualisering\" {\n",
        "    [Visualiser med Power BI] as VisualizePowerBI\n",
        "}\n",
        "\n",
        "Forecast7Days --> \"Gem Vejrdata\"\n",
        "History3Years --> \"Gem Vejrdata\"\n",
        "IntegrateData --> \"Gem Virksomhedsdata\"\n",
        "MLAlgorithm --> \"Gem Forudsigelsesresultater\"\n",
        "\"Gem Forudsigelsesresultater\" --> VisualizePowerBI\n",
        "\n",
        "@enduml"
      ],
      "metadata": {
        "id": "kNMXj8dcNVG0"
      }
    },
    {
      "cell_type": "code",
      "source": [
        "#Skjul koden til billedet\n",
        "from IPython.display import HTML\n",
        "\n",
        "# Replace 'image_url' with the raw URL of your image file on GitHub\n",
        "image_url = 'https://raw.githubusercontent.com/KarinKnopper/HovedopgaveGEV/main/Slettes.png'\n",
        "\n",
        "# Hide the code cell\n",
        "HTML(f'''\n",
        "    <div>\n",
        "        <img src=\"{image_url}\" alt=\"Image\">\n",
        "    </div>\n",
        "    <script>\n",
        "        code_show=false;\n",
        "        function code_toggle() {{\n",
        "            if (code_show) {{\n",
        "                $('div.input').hide();\n",
        "            }} else {{\n",
        "                $('div.input').show();\n",
        "            }}\n",
        "            code_show = !code_show\n",
        "        }}\n",
        "        $( document ).ready(code_toggle);\n",
        "    </script>\n",
        "    <form action=\"javascript:code_toggle()\">\n",
        "        <input type=\"submit\" value=\"Click here to toggle code on/off.\">\n",
        "    </form>\n",
        "''')\n",
        "\n",
        "\n"
      ],
      "metadata": {
        "id": "WgNRVVFJVN-L"
      },
      "execution_count": null,
      "outputs": []
    },
    {
      "cell_type": "code",
      "source": [
        "import requests\n",
        "from PIL import Image\n",
        "from io import BytesIO\n",
        "\n",
        "# Retrieve the image\n",
        "response = requests.get('https://raw.githubusercontent.com/KarinKnopper/HovedopgaveGEV/main/Tabeludsnit.png')\n",
        "#response = requests.get('https://raw.githubusercontent.com/KarinKnopper/HovedopgaveGEV/main/SQLSearch.png')\n",
        "\n",
        "\n",
        "# Check if the request was successful\n",
        "if response.status_code == 200:\n",
        "    # Open the image\n",
        "    img = Image.open(BytesIO(response.content))\n",
        "\n",
        "    # Save the image to the Colab filesystem\n",
        "    img.save('/content/tabeludsnit.png')\n",
        "    #img.save('/content/SQLSearch.png')\n",
        "\n",
        "    # Display the image using Colab's file system\n",
        "   # from google.colab.patches import cv2_imshow\n",
        "   # import cv2\n",
        "   # image = cv2.imread('/content/tabeludsnit.png')\n",
        "    #cv2_imshow(image)\n"
      ],
      "metadata": {
        "id": "qPpMNX7RUm0n"
      },
      "execution_count": null,
      "outputs": []
    },
    {
      "cell_type": "code",
      "source": [
        "img = Image.open('/content/tabeludsnit.png')\n",
        "display(img)"
      ],
      "metadata": {
        "id": "-mBn-GndSmUw"
      },
      "execution_count": null,
      "outputs": []
    },
    {
      "cell_type": "code",
      "source": [
        "img = Image.open('/content/SQLSearch.png')\n",
        "display(img)"
      ],
      "metadata": {
        "id": "VHERFN5HVlbn"
      },
      "execution_count": null,
      "outputs": []
    },
    {
      "cell_type": "code",
      "execution_count": null,
      "metadata": {
        "id": "nTX1GoDKCogs"
      },
      "outputs": [],
      "source": [
        "Image(\"Tabeludsnit.png\")"
      ]
    },
    {
      "cell_type": "code",
      "execution_count": null,
      "metadata": {
        "id": "lNkionzH0R69"
      },
      "outputs": [],
      "source": [
        "from IPython.display import Image\n",
        "Image(\"/content/SQLudsogning.png\")"
      ]
    },
    {
      "cell_type": "code",
      "execution_count": null,
      "metadata": {
        "id": "m7dGSsuZB7en"
      },
      "outputs": [],
      "source": [
        "from google.colab import files\n",
        "from IPython.display import Image\n",
        "uploades = files.upload()"
      ]
    },
    {
      "cell_type": "markdown",
      "source": [
        "##Hele prototypen"
      ],
      "metadata": {
        "id": "oYCBIDnfa8yM"
      }
    },
    {
      "cell_type": "code",
      "source": [
        "import numpy as np\n",
        "import pandas as pd\n",
        "import seaborn as sns\n",
        "import matplotlib.pyplot as plt"
      ],
      "metadata": {
        "id": "IQKC1-YTXmeY"
      },
      "execution_count": null,
      "outputs": []
    },
    {
      "cell_type": "code",
      "source": [
        "df=pd.read_csv('https://raw.githubusercontent.com/KarinKnopper/HovedopgaveGEV/main/vaskede_data3.csv')\n",
        "\n",
        "df = df.dropna()\n",
        "\n",
        "# Convert 'Dato' to datetime\n",
        "df['Dato'] = pd.to_datetime(df['Dato'])\n",
        "\n",
        "# Set 'Dato' as the index for time series analysis\n",
        "df.set_index('Dato', inplace=True)\n",
        "\n",
        "# Display the first few rows to understand the structure of the data\n",
        "df.head()\n"
      ],
      "metadata": {
        "colab": {
          "base_uri": "https://localhost:8080/",
          "height": 238
        },
        "id": "LnVux0uhJowy",
        "outputId": "c368d30d-ec2b-409a-f3ed-75e0e6ab40bb"
      },
      "execution_count": null,
      "outputs": [
        {
          "output_type": "execute_result",
          "data": {
            "text/plain": [
              "            Temperatur  Middelvind  Solskin  Forbrug\n",
              "Dato                                                \n",
              "2023-10-01        13.2         2.2      0.7      118\n",
              "2023-10-02        16.1         2.5      0.4       92\n",
              "2023-10-03        13.9         4.3      0.6      107\n",
              "2023-10-04        13.1         6.3      4.3      113\n",
              "2023-10-05        12.3         4.8      5.7      106"
            ],
            "text/html": [
              "\n",
              "  <div id=\"df-8eebf268-1662-4a1a-b761-a6065ac4985d\" class=\"colab-df-container\">\n",
              "    <div>\n",
              "<style scoped>\n",
              "    .dataframe tbody tr th:only-of-type {\n",
              "        vertical-align: middle;\n",
              "    }\n",
              "\n",
              "    .dataframe tbody tr th {\n",
              "        vertical-align: top;\n",
              "    }\n",
              "\n",
              "    .dataframe thead th {\n",
              "        text-align: right;\n",
              "    }\n",
              "</style>\n",
              "<table border=\"1\" class=\"dataframe\">\n",
              "  <thead>\n",
              "    <tr style=\"text-align: right;\">\n",
              "      <th></th>\n",
              "      <th>Temperatur</th>\n",
              "      <th>Middelvind</th>\n",
              "      <th>Solskin</th>\n",
              "      <th>Forbrug</th>\n",
              "    </tr>\n",
              "    <tr>\n",
              "      <th>Dato</th>\n",
              "      <th></th>\n",
              "      <th></th>\n",
              "      <th></th>\n",
              "      <th></th>\n",
              "    </tr>\n",
              "  </thead>\n",
              "  <tbody>\n",
              "    <tr>\n",
              "      <th>2023-10-01</th>\n",
              "      <td>13.2</td>\n",
              "      <td>2.2</td>\n",
              "      <td>0.7</td>\n",
              "      <td>118</td>\n",
              "    </tr>\n",
              "    <tr>\n",
              "      <th>2023-10-02</th>\n",
              "      <td>16.1</td>\n",
              "      <td>2.5</td>\n",
              "      <td>0.4</td>\n",
              "      <td>92</td>\n",
              "    </tr>\n",
              "    <tr>\n",
              "      <th>2023-10-03</th>\n",
              "      <td>13.9</td>\n",
              "      <td>4.3</td>\n",
              "      <td>0.6</td>\n",
              "      <td>107</td>\n",
              "    </tr>\n",
              "    <tr>\n",
              "      <th>2023-10-04</th>\n",
              "      <td>13.1</td>\n",
              "      <td>6.3</td>\n",
              "      <td>4.3</td>\n",
              "      <td>113</td>\n",
              "    </tr>\n",
              "    <tr>\n",
              "      <th>2023-10-05</th>\n",
              "      <td>12.3</td>\n",
              "      <td>4.8</td>\n",
              "      <td>5.7</td>\n",
              "      <td>106</td>\n",
              "    </tr>\n",
              "  </tbody>\n",
              "</table>\n",
              "</div>\n",
              "    <div class=\"colab-df-buttons\">\n",
              "\n",
              "  <div class=\"colab-df-container\">\n",
              "    <button class=\"colab-df-convert\" onclick=\"convertToInteractive('df-8eebf268-1662-4a1a-b761-a6065ac4985d')\"\n",
              "            title=\"Convert this dataframe to an interactive table.\"\n",
              "            style=\"display:none;\">\n",
              "\n",
              "  <svg xmlns=\"http://www.w3.org/2000/svg\" height=\"24px\" viewBox=\"0 -960 960 960\">\n",
              "    <path d=\"M120-120v-720h720v720H120Zm60-500h600v-160H180v160Zm220 220h160v-160H400v160Zm0 220h160v-160H400v160ZM180-400h160v-160H180v160Zm440 0h160v-160H620v160ZM180-180h160v-160H180v160Zm440 0h160v-160H620v160Z\"/>\n",
              "  </svg>\n",
              "    </button>\n",
              "\n",
              "  <style>\n",
              "    .colab-df-container {\n",
              "      display:flex;\n",
              "      gap: 12px;\n",
              "    }\n",
              "\n",
              "    .colab-df-convert {\n",
              "      background-color: #E8F0FE;\n",
              "      border: none;\n",
              "      border-radius: 50%;\n",
              "      cursor: pointer;\n",
              "      display: none;\n",
              "      fill: #1967D2;\n",
              "      height: 32px;\n",
              "      padding: 0 0 0 0;\n",
              "      width: 32px;\n",
              "    }\n",
              "\n",
              "    .colab-df-convert:hover {\n",
              "      background-color: #E2EBFA;\n",
              "      box-shadow: 0px 1px 2px rgba(60, 64, 67, 0.3), 0px 1px 3px 1px rgba(60, 64, 67, 0.15);\n",
              "      fill: #174EA6;\n",
              "    }\n",
              "\n",
              "    .colab-df-buttons div {\n",
              "      margin-bottom: 4px;\n",
              "    }\n",
              "\n",
              "    [theme=dark] .colab-df-convert {\n",
              "      background-color: #3B4455;\n",
              "      fill: #D2E3FC;\n",
              "    }\n",
              "\n",
              "    [theme=dark] .colab-df-convert:hover {\n",
              "      background-color: #434B5C;\n",
              "      box-shadow: 0px 1px 3px 1px rgba(0, 0, 0, 0.15);\n",
              "      filter: drop-shadow(0px 1px 2px rgba(0, 0, 0, 0.3));\n",
              "      fill: #FFFFFF;\n",
              "    }\n",
              "  </style>\n",
              "\n",
              "    <script>\n",
              "      const buttonEl =\n",
              "        document.querySelector('#df-8eebf268-1662-4a1a-b761-a6065ac4985d button.colab-df-convert');\n",
              "      buttonEl.style.display =\n",
              "        google.colab.kernel.accessAllowed ? 'block' : 'none';\n",
              "\n",
              "      async function convertToInteractive(key) {\n",
              "        const element = document.querySelector('#df-8eebf268-1662-4a1a-b761-a6065ac4985d');\n",
              "        const dataTable =\n",
              "          await google.colab.kernel.invokeFunction('convertToInteractive',\n",
              "                                                    [key], {});\n",
              "        if (!dataTable) return;\n",
              "\n",
              "        const docLinkHtml = 'Like what you see? Visit the ' +\n",
              "          '<a target=\"_blank\" href=https://colab.research.google.com/notebooks/data_table.ipynb>data table notebook</a>'\n",
              "          + ' to learn more about interactive tables.';\n",
              "        element.innerHTML = '';\n",
              "        dataTable['output_type'] = 'display_data';\n",
              "        await google.colab.output.renderOutput(dataTable, element);\n",
              "        const docLink = document.createElement('div');\n",
              "        docLink.innerHTML = docLinkHtml;\n",
              "        element.appendChild(docLink);\n",
              "      }\n",
              "    </script>\n",
              "  </div>\n",
              "\n",
              "\n",
              "<div id=\"df-a9d2b8c2-5715-4d84-b652-62d5b0a90756\">\n",
              "  <button class=\"colab-df-quickchart\" onclick=\"quickchart('df-a9d2b8c2-5715-4d84-b652-62d5b0a90756')\"\n",
              "            title=\"Suggest charts\"\n",
              "            style=\"display:none;\">\n",
              "\n",
              "<svg xmlns=\"http://www.w3.org/2000/svg\" height=\"24px\"viewBox=\"0 0 24 24\"\n",
              "     width=\"24px\">\n",
              "    <g>\n",
              "        <path d=\"M19 3H5c-1.1 0-2 .9-2 2v14c0 1.1.9 2 2 2h14c1.1 0 2-.9 2-2V5c0-1.1-.9-2-2-2zM9 17H7v-7h2v7zm4 0h-2V7h2v10zm4 0h-2v-4h2v4z\"/>\n",
              "    </g>\n",
              "</svg>\n",
              "  </button>\n",
              "\n",
              "<style>\n",
              "  .colab-df-quickchart {\n",
              "      --bg-color: #E8F0FE;\n",
              "      --fill-color: #1967D2;\n",
              "      --hover-bg-color: #E2EBFA;\n",
              "      --hover-fill-color: #174EA6;\n",
              "      --disabled-fill-color: #AAA;\n",
              "      --disabled-bg-color: #DDD;\n",
              "  }\n",
              "\n",
              "  [theme=dark] .colab-df-quickchart {\n",
              "      --bg-color: #3B4455;\n",
              "      --fill-color: #D2E3FC;\n",
              "      --hover-bg-color: #434B5C;\n",
              "      --hover-fill-color: #FFFFFF;\n",
              "      --disabled-bg-color: #3B4455;\n",
              "      --disabled-fill-color: #666;\n",
              "  }\n",
              "\n",
              "  .colab-df-quickchart {\n",
              "    background-color: var(--bg-color);\n",
              "    border: none;\n",
              "    border-radius: 50%;\n",
              "    cursor: pointer;\n",
              "    display: none;\n",
              "    fill: var(--fill-color);\n",
              "    height: 32px;\n",
              "    padding: 0;\n",
              "    width: 32px;\n",
              "  }\n",
              "\n",
              "  .colab-df-quickchart:hover {\n",
              "    background-color: var(--hover-bg-color);\n",
              "    box-shadow: 0 1px 2px rgba(60, 64, 67, 0.3), 0 1px 3px 1px rgba(60, 64, 67, 0.15);\n",
              "    fill: var(--button-hover-fill-color);\n",
              "  }\n",
              "\n",
              "  .colab-df-quickchart-complete:disabled,\n",
              "  .colab-df-quickchart-complete:disabled:hover {\n",
              "    background-color: var(--disabled-bg-color);\n",
              "    fill: var(--disabled-fill-color);\n",
              "    box-shadow: none;\n",
              "  }\n",
              "\n",
              "  .colab-df-spinner {\n",
              "    border: 2px solid var(--fill-color);\n",
              "    border-color: transparent;\n",
              "    border-bottom-color: var(--fill-color);\n",
              "    animation:\n",
              "      spin 1s steps(1) infinite;\n",
              "  }\n",
              "\n",
              "  @keyframes spin {\n",
              "    0% {\n",
              "      border-color: transparent;\n",
              "      border-bottom-color: var(--fill-color);\n",
              "      border-left-color: var(--fill-color);\n",
              "    }\n",
              "    20% {\n",
              "      border-color: transparent;\n",
              "      border-left-color: var(--fill-color);\n",
              "      border-top-color: var(--fill-color);\n",
              "    }\n",
              "    30% {\n",
              "      border-color: transparent;\n",
              "      border-left-color: var(--fill-color);\n",
              "      border-top-color: var(--fill-color);\n",
              "      border-right-color: var(--fill-color);\n",
              "    }\n",
              "    40% {\n",
              "      border-color: transparent;\n",
              "      border-right-color: var(--fill-color);\n",
              "      border-top-color: var(--fill-color);\n",
              "    }\n",
              "    60% {\n",
              "      border-color: transparent;\n",
              "      border-right-color: var(--fill-color);\n",
              "    }\n",
              "    80% {\n",
              "      border-color: transparent;\n",
              "      border-right-color: var(--fill-color);\n",
              "      border-bottom-color: var(--fill-color);\n",
              "    }\n",
              "    90% {\n",
              "      border-color: transparent;\n",
              "      border-bottom-color: var(--fill-color);\n",
              "    }\n",
              "  }\n",
              "</style>\n",
              "\n",
              "  <script>\n",
              "    async function quickchart(key) {\n",
              "      const quickchartButtonEl =\n",
              "        document.querySelector('#' + key + ' button');\n",
              "      quickchartButtonEl.disabled = true;  // To prevent multiple clicks.\n",
              "      quickchartButtonEl.classList.add('colab-df-spinner');\n",
              "      try {\n",
              "        const charts = await google.colab.kernel.invokeFunction(\n",
              "            'suggestCharts', [key], {});\n",
              "      } catch (error) {\n",
              "        console.error('Error during call to suggestCharts:', error);\n",
              "      }\n",
              "      quickchartButtonEl.classList.remove('colab-df-spinner');\n",
              "      quickchartButtonEl.classList.add('colab-df-quickchart-complete');\n",
              "    }\n",
              "    (() => {\n",
              "      let quickchartButtonEl =\n",
              "        document.querySelector('#df-a9d2b8c2-5715-4d84-b652-62d5b0a90756 button');\n",
              "      quickchartButtonEl.style.display =\n",
              "        google.colab.kernel.accessAllowed ? 'block' : 'none';\n",
              "    })();\n",
              "  </script>\n",
              "</div>\n",
              "    </div>\n",
              "  </div>\n"
            ]
          },
          "metadata": {},
          "execution_count": 5
        }
      ]
    },
    {
      "cell_type": "code",
      "source": [
        "import matplotlib.pyplot as plt\n",
        "\n",
        "# Plot MWh\n",
        "plt.figure(figsize=(12, 6))\n",
        "plt.plot(df['Forbrug'], label='MWh')\n",
        "plt.title('MWh Time Series')\n",
        "plt.legend()\n",
        "plt.show()"
      ],
      "metadata": {
        "colab": {
          "base_uri": "https://localhost:8080/",
          "height": 545
        },
        "id": "SYGx4DyQ4GTM",
        "outputId": "6a31f7b4-e703-44df-9064-66e72e7f85f1"
      },
      "execution_count": null,
      "outputs": [
        {
          "output_type": "display_data",
          "data": {
            "text/plain": [
              "<Figure size 1200x600 with 1 Axes>"
            ],
            "image/png": "[encoded data removed]"
          },
          "metadata": {}
        }
      ]
    },
    {
      "cell_type": "code",
      "source": [
        "# Use the last 20% as test\n",
        "test_size = 0.2\n",
        "split_index = int(len(df) * (1 - test_size))\n",
        "\n",
        "train_df = df.iloc[:split_index]\n",
        "test_df = df.iloc[split_index:]\n"
      ],
      "metadata": {
        "id": "HLc7F_Lj6PVW"
      },
      "execution_count": null,
      "outputs": []
    },
    {
      "cell_type": "code",
      "source": [
        "features = ['Temperatur', 'Middelvind', 'Solskin']\n",
        "\n",
        "X_train = train_df[features]\n",
        "y_train_mwh = train_df['Forbrug']\n",
        "\n",
        "X_test = test_df[features]\n",
        "y_test_mwh = test_df['Forbrug']"
      ],
      "metadata": {
        "id": "MJ7NTE7L8s40"
      },
      "execution_count": null,
      "outputs": []
    },
    {
      "cell_type": "code",
      "source": [
        "from statsmodels.tsa.statespace.sarimax import SARIMAX\n",
        "\n",
        "# Example: SARIMAX for MWh\n",
        "model_mwh = SARIMAX(y_train_mwh, order=(1, 1, 1), seasonal_order=(1, 1, 1, 12))\n",
        "results_mwh = model_mwh.fit()"
      ],
      "metadata": {
        "id": "D4Ve7Huq8zJO"
      },
      "execution_count": null,
      "outputs": []
    },
    {
      "cell_type": "code",
      "source": [
        "# Example: Predictions for MWh\n",
        "predictions_mwh = results_mwh.get_forecast(steps=len(test_df))\n",
        "pred_mean_mwh = predictions_mwh.predicted_mean\n",
        "\n",
        "# Evaluate the models\n",
        "from sklearn.metrics import mean_squared_error\n",
        "\n",
        "mse_mwh = mean_squared_error(y_test_mwh, pred_mean_mwh)\n",
        "\n",
        "\n",
        "print(f'MSE for MWh: {mse_mwh}')"
      ],
      "metadata": {
        "colab": {
          "base_uri": "https://localhost:8080/"
        },
        "id": "1K36gBVs9Ym9",
        "outputId": "1f0f06e0-c986-4e04-f86a-ee1b6fd952b5"
      },
      "execution_count": null,
      "outputs": [
        {
          "output_type": "stream",
          "name": "stdout",
          "text": [
            "MSE for MWh: 5552.822731371096\n"
          ]
        }
      ]
    },
    {
      "cell_type": "code",
      "source": [
        "import matplotlib.pyplot as plt\n",
        "%matplotlib inline\n",
        "\n",
        "\n",
        "# Plot MWh\n",
        "plt.figure(figsize=(12, 6))\n",
        "\n",
        "# Plot actual MWh values\n",
        "plt.plot(df.index, df['Forbrug'], label='Actual MWh', color='blue')\n",
        "\n",
        "# Plot predicted MWh values\n",
        "plt.plot(pred_mean_mwh.index, pred_mean_mwh, label='Predicted MWh', color='red')\n",
        "\n",
        "plt.title('MWh Time Series Forecasting')\n",
        "plt.xlabel('Date')\n",
        "plt.ylabel('Forbrug')\n",
        "plt.legend()\n",
        "plt.show()"
      ],
      "metadata": {
        "colab": {
          "base_uri": "https://localhost:8080/",
          "height": 564
        },
        "id": "1B4KLSiG-BRQ",
        "outputId": "a12cfb38-3e11-4c9e-ff61-52bafaeb0431"
      },
      "execution_count": null,
      "outputs": [
        {
          "output_type": "display_data",
          "data": {
            "text/plain": [
              "<Figure size 1200x600 with 1 Axes>"
            ],
            "image/png": "[encoded data removed]"
          },
          "metadata": {}
        }
      ]
    }
  ],
  "metadata": {
    "colab": {
      "provenance": [],
      "toc_visible": true,
      "include_colab_link": true
    },
    "kernelspec": {
      "display_name": "Python 3",
      "name": "python3"
    },
    "language_info": {
      "name": "python"
    }
  },
  "nbformat": 4,
  "nbformat_minor": 0
}